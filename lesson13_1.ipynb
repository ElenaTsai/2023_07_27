{
 "cells": [
  {
   "cell_type": "code",
   "execution_count": 5,
   "metadata": {},
   "outputs": [],
   "source": [
    "class Student:\n",
    "    pass"
   ]
  },
  {
   "cell_type": "code",
   "execution_count": 6,
   "metadata": {},
   "outputs": [],
   "source": [
    "stu1=Student()\n",
    "stu1.name=\"jane\"\n",
    "stu1.chinese=90\n",
    "stu1.math=88\n",
    "stu1.english=89"
   ]
  },
  {
   "cell_type": "code",
   "execution_count": 7,
   "metadata": {},
   "outputs": [],
   "source": [
    "stu2=Student()\n",
    "stu2.name=\"elena\"\n",
    "stu2.chinese=88\n",
    "stu2.math=87\n",
    "stu2.english=98"
   ]
  },
  {
   "cell_type": "code",
   "execution_count": 8,
   "metadata": {},
   "outputs": [
    {
     "data": {
      "text/plain": [
       "('jane', 'elena')"
      ]
     },
     "execution_count": 8,
     "metadata": {},
     "output_type": "execute_result"
    }
   ],
   "source": [
    "stu1.name,stu2.name"
   ]
  },
  {
   "cell_type": "code",
   "execution_count": 10,
   "metadata": {},
   "outputs": [],
   "source": [
    "class Student:\n",
    "    def __init__(self,name:str,chinese:int,english:int,math:int):\n",
    "        self.name = name\n",
    "        self.chinese = chinese\n",
    "        self.english = english\n",
    "        self.math = math "
   ]
  },
  {
   "cell_type": "code",
   "execution_count": 11,
   "metadata": {},
   "outputs": [
    {
     "data": {
      "text/plain": [
       "('jane', 75, 93, 82)"
      ]
     },
     "execution_count": 11,
     "metadata": {},
     "output_type": "execute_result"
    }
   ],
   "source": [
    "stu1 = Student(\"jane\",75, 93, 82)\n",
    "stu1.name, stu1.chinese, stu1.english, stu1.math"
   ]
  },
  {
   "cell_type": "code",
   "execution_count": 12,
   "metadata": {},
   "outputs": [
    {
     "data": {
      "text/plain": [
       "('elena', 89, 92, 72)"
      ]
     },
     "execution_count": 12,
     "metadata": {},
     "output_type": "execute_result"
    }
   ],
   "source": [
    "stu2 = Student(name=\"elena\",chinese=89, english=92, math=72)\n",
    "stu2.name, stu2.chinese, stu2.english, stu2.math"
   ]
  },
  {
   "cell_type": "code",
   "execution_count": 25,
   "metadata": {},
   "outputs": [],
   "source": [
    "class Student:\n",
    "    def __init__(self,name:str,chinese:int,english:int,math:int):\n",
    "        #實體的attribute\n",
    "        self.name = name\n",
    "        self.chinese = chinese\n",
    "        self.english = english\n",
    "        self.math = math \n",
    "\n",
    "    #實體方法method\n",
    "    def total(self)->int:\n",
    "        return self.chinese + self.english + self.math\n",
    "    #property\n",
    "    @property\n",
    "    def average(self)->float:\n",
    "        return self.total()/3.0\n",
    "    \n",
    "    def __repr__(self):\n",
    "        return f'我是student的實體,我的name是:{self.name}'"
   ]
  },
  {
   "cell_type": "code",
   "execution_count": 26,
   "metadata": {},
   "outputs": [
    {
     "data": {
      "text/plain": [
       "('徐國堂', 75, 93, 82)"
      ]
     },
     "metadata": {},
     "output_type": "display_data"
    },
    {
     "name": "stdout",
     "output_type": "stream",
     "text": [
      "250 83.33333333333333\n",
      "我是student的實體,我的name是:徐國堂\n"
     ]
    },
    {
     "data": {
      "text/plain": [
       "('張xx', 89, 92, 72)"
      ]
     },
     "metadata": {},
     "output_type": "display_data"
    },
    {
     "name": "stdout",
     "output_type": "stream",
     "text": [
      "253 84.33333333333333\n",
      "我是student的實體,我的name是:張xx\n"
     ]
    },
    {
     "data": {
      "text/plain": [
       "('林xx', 71, 98, 92)"
      ]
     },
     "metadata": {},
     "output_type": "display_data"
    },
    {
     "name": "stdout",
     "output_type": "stream",
     "text": [
      "261 87.0\n",
      "我是student的實體,我的name是:林xx\n"
     ]
    }
   ],
   "source": [
    "stu1 = Student(\"徐國堂\",75, 93, 82)\n",
    "display((stu1.name, stu1.chinese, stu1.english, stu1.math))\n",
    "print(stu1.total(),stu1.average)\n",
    "print(stu1)\n",
    "\n",
    "stu2 = Student(name=\"張xx\",chinese=89, english=92, math=72)\n",
    "display((stu2.name, stu2.chinese, stu2.english, stu2.math))\n",
    "print(stu2.total(),stu2.average)\n",
    "print(stu2)\n",
    "\n",
    "stu3 = Student(\"林xx\",english=98, math=92, chinese=71)\n",
    "display((stu3.name, stu3.chinese, stu3.english, stu3.math))\n",
    "print(stu3.total(),stu3.average)\n",
    "print(stu3)"
   ]
  }
 ],
 "metadata": {
  "kernelspec": {
   "display_name": "Python 3",
   "language": "python",
   "name": "python3"
  },
  "language_info": {
   "codemirror_mode": {
    "name": "ipython",
    "version": 3
   },
   "file_extension": ".py",
   "mimetype": "text/x-python",
   "name": "python",
   "nbconvert_exporter": "python",
   "pygments_lexer": "ipython3",
   "version": "3.10.12"
  },
  "orig_nbformat": 4
 },
 "nbformat": 4,
 "nbformat_minor": 2
}
