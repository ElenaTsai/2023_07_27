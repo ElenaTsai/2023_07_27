{
 "cells": [
  {
   "cell_type": "code",
   "execution_count": 7,
   "metadata": {},
   "outputs": [
    {
     "name": "stdout",
     "output_type": "stream",
     "text": [
      "a b c d e f g h i j k i m n o p q r i s t u v w x y z "
     ]
    }
   ],
   "source": [
    "#字串是串列資料\n",
    "for word in \"abcdefghijkimnopqristuvwxyz\":\n",
    "    print(word,end=\" \")"
   ]
  },
  {
   "cell_type": "code",
   "execution_count": 9,
   "metadata": {},
   "outputs": [],
   "source": [
    "word='that is alice\\'s cat'"
   ]
  },
  {
   "cell_type": "code",
   "execution_count": 11,
   "metadata": {},
   "outputs": [
    {
     "name": "stdout",
     "output_type": "stream",
     "text": [
      "hello there!\n",
      "how are you\n"
     ]
    }
   ],
   "source": [
    "print(\"hello there!\\nhow are you\")"
   ]
  },
  {
   "cell_type": "code",
   "execution_count": 12,
   "metadata": {},
   "outputs": [
    {
     "data": {
      "text/plain": [
       "'hello there!\\nhow are you'"
      ]
     },
     "metadata": {},
     "output_type": "display_data"
    }
   ],
   "source": [
    "display(\"hello there!\\nhow are you\")"
   ]
  },
  {
   "cell_type": "code",
   "execution_count": 15,
   "metadata": {},
   "outputs": [
    {
     "name": "stdout",
     "output_type": "stream",
     "text": [
      "that is alice\\'s cat\n"
     ]
    }
   ],
   "source": [
    "print(r'that is alice\\'s cat')"
   ]
  },
  {
   "cell_type": "code",
   "execution_count": 16,
   "metadata": {},
   "outputs": [
    {
     "data": {
      "text/plain": [
       "'8.Efficiency measurement of selected Australian and other international ports using data envelopment analysis'"
      ]
     },
     "execution_count": 16,
     "metadata": {},
     "output_type": "execute_result"
    }
   ],
   "source": [
    "#單行文字\n",
    "sentence=\"8.Efficiency measurement of selected \\\n",
    "Australian and other international ports \\\n",
    "using data envelopment analysis\"\n",
    "\n",
    "sentence"
   ]
  },
  {
   "cell_type": "code",
   "execution_count": 22,
   "metadata": {},
   "outputs": [
    {
     "name": "stdout",
     "output_type": "stream",
     "text": [
      "Efficiency measurement of selected Australian and other \n",
      "\n",
      "international ports using data \n",
      "\n",
      "envelopment analysis\n"
     ]
    }
   ],
   "source": [
    "sentence1='''Efficiency measurement of selected Australian and other \n",
    "\n",
    "international ports using data \n",
    "\n",
    "envelopment analysis'''\n",
    "\n",
    "print(sentence1)"
   ]
  },
  {
   "cell_type": "code",
   "execution_count": 24,
   "metadata": {},
   "outputs": [
    {
     "name": "stdout",
     "output_type": "stream",
     "text": [
      "Help on function add in module __main__:\n",
      "\n",
      "add(first: int, second: int) -> int\n",
      "    (在此輸入function的說明)\n",
      "    \n",
      "    例如\n",
      "    \n",
      "    加總的運算\n",
      "    \n",
      "    兩個參數的相加\n",
      "\n"
     ]
    }
   ],
   "source": [
    "#多行文字當作fuction說明，說明一定要放在最前面\n",
    "def add(first:int,second:int)->int:\n",
    "    '''\n",
    "    (在此輸入function的說明)\n",
    "\n",
    "    例如\n",
    "\n",
    "    加總的運算\n",
    "\n",
    "    兩個參數的相加\n",
    "    '''\n",
    "    return first+second\n",
    "help(add)"
   ]
  },
  {
   "cell_type": "code",
   "execution_count": 25,
   "metadata": {},
   "outputs": [
    {
     "name": "stdout",
     "output_type": "stream",
     "text": [
      "a\n",
      "z\n"
     ]
    }
   ],
   "source": [
    "#字串的index\n",
    "letter=\"abcdefghijkimnopqristuvwxyz\"\n",
    "#subscribe\n",
    "print(letter[0])\n",
    "print(letter[len(letter)-1])"
   ]
  },
  {
   "cell_type": "code",
   "execution_count": 26,
   "metadata": {},
   "outputs": [
    {
     "name": "stdout",
     "output_type": "stream",
     "text": [
      "h\n",
      "d\n",
      "ello wo\n",
      "hello\n",
      "hello\n",
      "world\n"
     ]
    }
   ],
   "source": [
    "#字串的切割[n:m]從n到m<但不包含m\n",
    "greeting=\"hello world\"\n",
    "print(greeting[0])\n",
    "print(greeting[-1])\n",
    "print(greeting[1:8])\n",
    "print(greeting[0:5])\n",
    "print(greeting[:5])#前面不寫，抓到第一個\n",
    "print(greeting[-5:])#後面不寫，抓到最後一個\n"
   ]
  },
  {
   "cell_type": "code",
   "execution_count": 28,
   "metadata": {},
   "outputs": [
    {
     "data": {
      "text/plain": [
       "'蔡意婕:)'"
      ]
     },
     "execution_count": 28,
     "metadata": {},
     "output_type": "execute_result"
    }
   ],
   "source": [
    "name=\"編號一蔡意婕:)\"\n",
    "name[-5:]"
   ]
  }
 ],
 "metadata": {
  "kernelspec": {
   "display_name": "Python 3",
   "language": "python",
   "name": "python3"
  },
  "language_info": {
   "codemirror_mode": {
    "name": "ipython",
    "version": 3
   },
   "file_extension": ".py",
   "mimetype": "text/x-python",
   "name": "python",
   "nbconvert_exporter": "python",
   "pygments_lexer": "ipython3",
   "version": "3.10.12"
  },
  "orig_nbformat": 4
 },
 "nbformat": 4,
 "nbformat_minor": 2
}
