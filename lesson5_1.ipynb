{
 "cells": [
  {
   "cell_type": "code",
   "execution_count": 2,
   "metadata": {},
   "outputs": [
    {
     "name": "stdout",
     "output_type": "stream",
     "text": [
      "獎金:1000\n"
     ]
    }
   ],
   "source": [
    "#巢狀判斷\n",
    "chinese=int(input(\"請輸入國文分數\"))\n",
    "math=int(input(\"請輸入數學分數\"))\n",
    "bonus=0\n",
    "if chinese==100:\n",
    "    if math==100:\n",
    "        bonus=1000\n",
    "    else:\n",
    "        bonus=500\n",
    "elif math==100:\n",
    "    bonus=500\n",
    "print(f\"獎金:{bonus}\")"
   ]
  },
  {
   "cell_type": "code",
   "execution_count": 8,
   "metadata": {},
   "outputs": [
    {
     "name": "stdout",
     "output_type": "stream",
     "text": [
      "獎金0\n"
     ]
    }
   ],
   "source": [
    "#邏輯運算子\n",
    "chinese=int(input(\"請輸入國文分數\"))\n",
    "math=int(input(\"請輸入數學分數\"))\n",
    "bonus=0\n",
    "if chinese==100 and math==100:\n",
    "    bonus=1000\n",
    "elif chinese==100 or math==100:\n",
    "    bonus=500\n",
    "\n",
    "\n",
    "print(f\"獎金{bonus}\")"
   ]
  },
  {
   "cell_type": "code",
   "execution_count": 11,
   "metadata": {},
   "outputs": [
    {
     "name": "stdout",
     "output_type": "stream",
     "text": [
      "血壓正常\n"
     ]
    }
   ],
   "source": [
    "blood_pressure=int(input(\"輸入血壓\"))\n",
    "if blood_pressure>=80 and blood_pressure<=120:\n",
    "    print(\"血壓正常\")\n",
    "else:\n",
    "    print(\"血壓不正常\")\n",
    "\n"
   ]
  },
  {
   "cell_type": "code",
   "execution_count": 12,
   "metadata": {},
   "outputs": [
    {
     "name": "stdout",
     "output_type": "stream",
     "text": [
      "血壓正常\n"
     ]
    }
   ],
   "source": [
    "blood_pressure=int(input(\"輸入血壓\"))\n",
    "if blood_pressure<80 or blood_pressure>120:\n",
    "    print(\"血壓不正常\")\n",
    "else:\n",
    "    print(\"血壓正常\")"
   ]
  },
  {
   "cell_type": "code",
   "execution_count": 26,
   "metadata": {},
   "outputs": [
    {
     "name": "stdout",
     "output_type": "stream",
     "text": [
      "您的身高:157.6\n",
      "您的體重:53\n",
      "您的BMI:21.34\n",
      "分析結果:體重正常\n"
     ]
    }
   ],
   "source": [
    "#bmi計算後分析\n",
    "height=eval(input(\"請輸入身高(公分)\"))\n",
    "weight=eval(input(\"請輸入體重(公斤)\"))\n",
    "\n",
    "bmi=weight/((height/100)**2)\n",
    "suggestion=\"\"\n",
    "if bmi<18.5:\n",
    "    suggestion=\"體重過輕\"\n",
    "elif bmi<24:\n",
    "    suggestion=\"體重正常\"\n",
    "elif bmi<27:\n",
    "    suggestion=\"過重\"\n",
    "elif bmi<30:\n",
    "    suggestion=\"輕度肥胖\"\n",
    "elif bmi<35:\n",
    "    suggestion=\"中度肥胖\"\n",
    "else:\n",
    "    suggestion=\"重度肥胖\"\n",
    "\n",
    "print(f\"您的身高:{height}\")\n",
    "print(f\"您的體重:{weight}\")\n",
    "print(f\"您的BMI:{bmi:.2f}\")\n",
    "print(f\"分析結果:{suggestion}\")\n",
    "\n"
   ]
  }
 ],
 "metadata": {
  "kernelspec": {
   "display_name": "Python 3",
   "language": "python",
   "name": "python3"
  },
  "language_info": {
   "codemirror_mode": {
    "name": "ipython",
    "version": 3
   },
   "file_extension": ".py",
   "mimetype": "text/x-python",
   "name": "python",
   "nbconvert_exporter": "python",
   "pygments_lexer": "ipython3",
   "version": "3.10.12"
  },
  "orig_nbformat": 4
 },
 "nbformat": 4,
 "nbformat_minor": 2
}
