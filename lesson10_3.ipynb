{
 "cells": [
  {
   "cell_type": "code",
   "execution_count": 1,
   "metadata": {},
   "outputs": [
    {
     "data": {
      "text/plain": [
       "([79, 82, 33, 22, 11], [82, 79, 63, 52, 41], [90, 90, 88, 39, 70])"
      ]
     },
     "execution_count": 1,
     "metadata": {},
     "output_type": "execute_result"
    }
   ],
   "source": [
    "#2維list\n",
    "students=[[79,82,33,22,11],\n",
    "          [82,79,63,52,41],\n",
    "          [90,90,88,39,70]]\n",
    "students[0],students[1],students[2]"
   ]
  },
  {
   "cell_type": "code",
   "execution_count": 2,
   "metadata": {},
   "outputs": [
    {
     "name": "stdout",
     "output_type": "stream",
     "text": [
      "[79, 82, 33, 22, 11]\n",
      "[82, 79, 63, 52, 41]\n",
      "[90, 90, 88, 39, 70]\n"
     ]
    }
   ],
   "source": [
    "for student in students:\n",
    "    print(student)"
   ]
  },
  {
   "cell_type": "code",
   "execution_count": 3,
   "metadata": {},
   "outputs": [
    {
     "data": {
      "text/plain": [
       "[[95, 69, 67, 68, 93],\n",
       " [79, 78, 55, 61, 73],\n",
       " [92, 55, 87, 92, 68],\n",
       " [58, 75, 88, 66, 62],\n",
       " [60, 59, 86, 77, 87],\n",
       " [57, 50, 60, 93, 83],\n",
       " [71, 92, 61, 85, 57],\n",
       " [81, 59, 59, 66, 85],\n",
       " [97, 71, 100, 53, 80],\n",
       " [80, 85, 58, 51, 57],\n",
       " [66, 75, 62, 56, 86],\n",
       " [66, 76, 84, 57, 96],\n",
       " [53, 83, 99, 65, 57],\n",
       " [74, 54, 92, 78, 95],\n",
       " [74, 78, 70, 90, 76],\n",
       " [89, 95, 91, 58, 67],\n",
       " [84, 84, 74, 60, 95],\n",
       " [72, 62, 56, 91, 81],\n",
       " [53, 97, 53, 74, 98],\n",
       " [51, 72, 70, 55, 53],\n",
       " [96, 99, 91, 81, 85],\n",
       " [100, 80, 51, 68, 79],\n",
       " [97, 69, 50, 84, 74],\n",
       " [58, 90, 88, 98, 71],\n",
       " [76, 100, 64, 100, 92],\n",
       " [70, 91, 92, 75, 78],\n",
       " [86, 71, 54, 58, 66],\n",
       " [88, 56, 59, 56, 86],\n",
       " [97, 97, 68, 71, 50],\n",
       " [79, 85, 100, 92, 55],\n",
       " [71, 76, 78, 99, 95],\n",
       " [99, 98, 52, 85, 95],\n",
       " [52, 56, 66, 56, 96],\n",
       " [80, 98, 66, 100, 61],\n",
       " [54, 88, 89, 80, 53],\n",
       " [54, 75, 64, 99, 98],\n",
       " [81, 77, 61, 84, 52],\n",
       " [79, 96, 100, 53, 52],\n",
       " [59, 64, 76, 65, 98],\n",
       " [62, 71, 83, 61, 90],\n",
       " [89, 74, 60, 65, 89],\n",
       " [92, 100, 55, 91, 51],\n",
       " [85, 92, 79, 73, 90],\n",
       " [71, 98, 67, 90, 85],\n",
       " [66, 100, 99, 53, 86],\n",
       " [64, 95, 58, 91, 76],\n",
       " [69, 72, 63, 71, 90],\n",
       " [94, 80, 58, 76, 63],\n",
       " [80, 89, 64, 100, 80],\n",
       " [71, 50, 71, 58, 71]]"
      ]
     },
     "execution_count": 3,
     "metadata": {},
     "output_type": "execute_result"
    }
   ],
   "source": [
    "import random\n",
    "def get_score()->list:\n",
    "    score=[]\n",
    "    for i in range(5):\n",
    "        score.append(random.randint(50,100))\n",
    "    return score\n",
    "students=[]\n",
    "for i in range(50):\n",
    "    scores=get_score()\n",
    "    students.append(scores)\n",
    "students"
   ]
  }
 ],
 "metadata": {
  "kernelspec": {
   "display_name": "Python 3",
   "language": "python",
   "name": "python3"
  },
  "language_info": {
   "codemirror_mode": {
    "name": "ipython",
    "version": 3
   },
   "file_extension": ".py",
   "mimetype": "text/x-python",
   "name": "python",
   "nbconvert_exporter": "python",
   "pygments_lexer": "ipython3",
   "version": "3.10.12"
  },
  "orig_nbformat": 4
 },
 "nbformat": 4,
 "nbformat_minor": 2
}
