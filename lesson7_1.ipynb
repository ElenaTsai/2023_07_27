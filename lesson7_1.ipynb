{
 "cells": [
  {
   "cell_type": "code",
   "execution_count": 3,
   "metadata": {},
   "outputs": [
    {
     "name": "stdout",
     "output_type": "stream",
     "text": [
      "quack\n"
     ]
    }
   ],
   "source": [
    "#沒有參數，沒有傳出值的function\n",
    "def make_a_sound():\n",
    "    print(\"quack\")\n",
    "\n",
    "make_a_sound()\n",
    "    "
   ]
  },
  {
   "cell_type": "code",
   "execution_count": 6,
   "metadata": {},
   "outputs": [
    {
     "name": "stdout",
     "output_type": "stream",
     "text": [
      "3+7=10\n",
      "3*7=21\n"
     ]
    }
   ],
   "source": [
    "def add(first,second):\n",
    "    print(f\"{first}+{second}={first+second}\")\n",
    "def multiple(first,second):\n",
    "    print(f\"{first}*{second}={first*second}\")\n",
    "    #這裡的first和second與上面的不同(在不同機器、add和multiple)\n",
    "#引數值(跟他說3是first、7是second)\n",
    "add(3,7)\n",
    "multiple(3,7)"
   ]
  },
  {
   "cell_type": "code",
   "execution_count": 8,
   "metadata": {},
   "outputs": [
    {
     "name": "stdout",
     "output_type": "stream",
     "text": [
      "3+8=11\n",
      "3*8=24\n"
     ]
    }
   ],
   "source": [
    "#引數名稱的呼叫(優點：可以不依順序)\n",
    "add(first=3,second=8)\n",
    "multiple(second=8,first=3)\n",
    "#使用引數名稱呼叫，後面不可以用引數值呼叫"
   ]
  },
  {
   "cell_type": "code",
   "execution_count": 9,
   "metadata": {},
   "outputs": [
    {
     "name": "stdout",
     "output_type": "stream",
     "text": [
      "3+8=11\n",
      "3*9=27\n"
     ]
    }
   ],
   "source": [
    "#混合呼叫，前面用引數值呼叫，後面用引數名稱呼叫\n",
    "add(3,second=8)\n",
    "multiple(3,second=9)"
   ]
  }
 ],
 "metadata": {
  "kernelspec": {
   "display_name": "Python 3",
   "language": "python",
   "name": "python3"
  },
  "language_info": {
   "codemirror_mode": {
    "name": "ipython",
    "version": 3
   },
   "file_extension": ".py",
   "mimetype": "text/x-python",
   "name": "python",
   "nbconvert_exporter": "python",
   "pygments_lexer": "ipython3",
   "version": "3.10.12"
  },
  "orig_nbformat": 4
 },
 "nbformat": 4,
 "nbformat_minor": 2
}
