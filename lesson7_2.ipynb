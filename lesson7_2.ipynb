{
 "cells": [
  {
   "cell_type": "code",
   "execution_count": 2,
   "metadata": {},
   "outputs": [],
   "source": [
    "#參數的沒有default值\n",
    "def scores(chinese,english,math):\n",
    "    print(f\"國文:{chinese},英文:{english},數學:{math}\")"
   ]
  },
  {
   "cell_type": "code",
   "execution_count": 3,
   "metadata": {},
   "outputs": [
    {
     "name": "stdout",
     "output_type": "stream",
     "text": [
      "國文:78,英文:89,數學:90\n"
     ]
    }
   ],
   "source": [
    "scores(78,89,math=90)"
   ]
  },
  {
   "cell_type": "code",
   "execution_count": 5,
   "metadata": {},
   "outputs": [
    {
     "name": "stdout",
     "output_type": "stream",
     "text": [
      "國文:89,英文:90,數學:67\n",
      "國文:89,英文:90,數學:34\n",
      "國文:77,英文:65,數學:22\n"
     ]
    }
   ],
   "source": [
    "#參數有default,一定要放在後面\n",
    "def scores1(chinese,english=90,math=67):\n",
    "    print(f\"國文:{chinese},英文:{english},數學:{math}\")\n",
    "scores1(89)#沒有default，所以後面英文、數學會跑出上面default的值；如果要更改後面的defualt value，\n",
    "#就使用引數名稱呼叫\n",
    "scores1(89,math=34)\n",
    "scores1(77,math=22,english=65)"
   ]
  },
  {
   "cell_type": "code",
   "execution_count": 6,
   "metadata": {},
   "outputs": [
    {
     "name": "stdout",
     "output_type": "stream",
     "text": [
      "1到100的質數是:\n",
      "2 3 5 7 11 13 17 19 23 29 31 37 41 43 47 53 59 61 67 71 73 79 83 89 97 "
     ]
    }
   ],
   "source": [
    "def print_prime():\n",
    "    end=int(input(\"請輸入end值\"))\n",
    "    print(f\"1到{end}的質數是:\")\n",
    "    for num in range(2,end+1):\n",
    "        is_prime=True\n",
    "        for i in range(2,num):\n",
    "            if num % i ==0:\n",
    "                is_prime=False\n",
    "        if is_prime:\n",
    "            print(f\"{num}\", end=\" \")\n",
    "print_prime()"
   ]
  },
  {
   "cell_type": "code",
   "execution_count": 9,
   "metadata": {},
   "outputs": [
    {
     "name": "stdout",
     "output_type": "stream",
     "text": [
      "89到100的質數是:\n",
      "89 97 "
     ]
    }
   ],
   "source": [
    "def print_prime(first,end):\n",
    "    if first<2:\n",
    "        first=2\n",
    "    print(f\"{first}到{end}的質數是:\")\n",
    "    for num in range(first,end+1):\n",
    "        is_prime=True\n",
    "        for i in range(2,num):\n",
    "            if num % i ==0:\n",
    "                is_prime=False\n",
    "        if is_prime:\n",
    "            print(f\"{num}\", end=\" \")\n",
    "f=int(input(\"請輸入first值\"))\n",
    "e=int(input(\"請輸入end值\"))\n",
    "print_prime(f,e)"
   ]
  },
  {
   "cell_type": "code",
   "execution_count": 10,
   "metadata": {},
   "outputs": [
    {
     "name": "stdout",
     "output_type": "stream",
     "text": [
      "400\n"
     ]
    }
   ],
   "source": [
    "#傳出值的function\n",
    "def add(first,second):\n",
    "    return first+second\n",
    "\n",
    "total=add(150,250)\n",
    "print(total)"
   ]
  },
  {
   "cell_type": "code",
   "execution_count": 12,
   "metadata": {},
   "outputs": [
    {
     "data": {
      "text/plain": [
       "400"
      ]
     },
     "execution_count": 12,
     "metadata": {},
     "output_type": "execute_result"
    }
   ],
   "source": [
    "#參數和傳出值，型別的提醒#python3.7就有支援\n",
    "#只是提醒，可有可無\n",
    "def add1(first:int,second:int)->int:\n",
    "    return first+second\n",
    "\n",
    "total1=add(150,250)\n",
    "total1"
   ]
  }
 ],
 "metadata": {
  "kernelspec": {
   "display_name": "Python 3",
   "language": "python",
   "name": "python3"
  },
  "language_info": {
   "codemirror_mode": {
    "name": "ipython",
    "version": 3
   },
   "file_extension": ".py",
   "mimetype": "text/x-python",
   "name": "python",
   "nbconvert_exporter": "python",
   "pygments_lexer": "ipython3",
   "version": "3.10.12"
  },
  "orig_nbformat": 4
 },
 "nbformat": 4,
 "nbformat_minor": 2
}
