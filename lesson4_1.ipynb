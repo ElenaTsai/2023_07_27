{
 "cells": [
  {
   "cell_type": "code",
   "execution_count": 2,
   "metadata": {},
   "outputs": [
    {
     "name": "stdout",
     "output_type": "stream",
     "text": [
      "程式結束\n"
     ]
    }
   ],
   "source": [
    "a=17\n",
    "if a>18:\n",
    "    print('your age is：')\n",
    "    print(\"18\")\n",
    "print(\"程式結束\")"
   ]
  },
  {
   "cell_type": "code",
   "execution_count": 6,
   "metadata": {},
   "outputs": [
    {
     "name": "stdout",
     "output_type": "stream",
     "text": [
      "the score is 262\n"
     ]
    }
   ],
   "source": [
    "#the total scores are 300\n",
    "#some students can plus 5%\n",
    "\n",
    "score= int(input(\"student score(300 is the highest score)：\"))\n",
    "is_add=input(\"dose the student meet the adding condition?(y,n) \")\n",
    "\n",
    "if(is_add ==\"y\"):\n",
    "    score*=1.05\n",
    "    if score>300:\n",
    "        score=300\n",
    "\n",
    "print(f\"the score is {round(score)}\")\n"
   ]
  },
  {
   "cell_type": "code",
   "execution_count": 11,
   "metadata": {},
   "outputs": [
    {
     "name": "stdout",
     "output_type": "stream",
     "text": [
      "input error\n"
     ]
    }
   ],
   "source": [
    "#the total scores are 300\n",
    "#some students can plus 5%\n",
    "\n",
    "score= int(input(\"student score(300 is the highest score)：\"))\n",
    "if score<=300:\n",
    "    is_add=input(\"dose the student meet the adding condition?(y,n) \")\n",
    "    if(is_add ==\"y\"):\n",
    "        score*=1.05\n",
    "        if score>300:\n",
    "            score=300\n",
    "\n",
    "    print(f\"the score is {round(score)}\")\n",
    "else:\n",
    "    print(\"input error\")"
   ]
  },
  {
   "cell_type": "code",
   "execution_count": 8,
   "metadata": {},
   "outputs": [
    {
     "name": "stdout",
     "output_type": "stream",
     "text": [
      "fail\n"
     ]
    }
   ],
   "source": [
    "#雙向選擇\n",
    "score=int(input(\"student score(0~100)：\"))\n",
    "if score>=60:\n",
    "    print(\"pass\")\n",
    "else:\n",
    "    print(\"fail\")"
   ]
  },
  {
   "cell_type": "code",
   "execution_count": 12,
   "metadata": {},
   "outputs": [
    {
     "name": "stdout",
     "output_type": "stream",
     "text": [
      "輸入格式錯誤\n"
     ]
    }
   ],
   "source": [
    "try:\n",
    "    money=int(input(\"請輸入金額:\"))\n",
    "    print(money)\n",
    "except:\n",
    "    print(\"輸入格式錯誤\")"
   ]
  },
  {
   "cell_type": "code",
   "execution_count": 15,
   "metadata": {},
   "outputs": [
    {
     "name": "stdout",
     "output_type": "stream",
     "text": [
      "the score is 261\n"
     ]
    }
   ],
   "source": [
    "#raise錯誤\n",
    "try:\n",
    "    score= int(input(\"student score(300 is the highest score)：\"))\n",
    "    if score<=300:\n",
    "        is_add=input(\"dose the student meet the adding condition?(y,n) \")\n",
    "        if(is_add ==\"y\"):\n",
    "            score*=1.05\n",
    "            if score>300:\n",
    "                score=300\n",
    "\n",
    "        print(f\"the score is {round(score)}\")\n",
    "    else:\n",
    "        print(\"input error\")\n",
    "except:\n",
    "    print(\"input error\")"
   ]
  }
 ],
 "metadata": {
  "kernelspec": {
   "display_name": "Python 3",
   "language": "python",
   "name": "python3"
  },
  "language_info": {
   "codemirror_mode": {
    "name": "ipython",
    "version": 3
   },
   "file_extension": ".py",
   "mimetype": "text/x-python",
   "name": "python",
   "nbconvert_exporter": "python",
   "pygments_lexer": "ipython3",
   "version": "3.10.12"
  },
  "orig_nbformat": 4
 },
 "nbformat": 4,
 "nbformat_minor": 2
}
