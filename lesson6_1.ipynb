{
 "cells": [
  {
   "cell_type": "code",
   "execution_count": 2,
   "metadata": {},
   "outputs": [
    {
     "name": "stdout",
     "output_type": "stream",
     "text": [
      "1\n",
      "2\n",
      "3\n",
      "4\n",
      "5\n",
      "程式結束\n"
     ]
    }
   ],
   "source": [
    "#執行5次\n",
    "#列印一到五\n",
    "#while\n",
    "count=1\n",
    "while count<=5:\n",
    "    print(count)\n",
    "    count+=1\n",
    "print(\"程式結束\")"
   ]
  },
  {
   "cell_type": "code",
   "execution_count": 3,
   "metadata": {},
   "outputs": [
    {
     "name": "stdout",
     "output_type": "stream",
     "text": [
      "恭喜，存了3個月總存款為194443元\n"
     ]
    }
   ],
   "source": [
    "#小名要存錢買車，機車每輛30000元，他將每月存的錢輸入，當錢足夠時訊息告知\n",
    "motor_price=30000\n",
    "deposit=0\n",
    "month=0\n",
    "while(deposit<30000):\n",
    "    month+=1\n",
    "    save=int(input(f\"請輸入{month}個月的存款是\"))\n",
    "    deposit+=save\n",
    "print(f\"恭喜，存了{month}個月總存款為{deposit}元\")"
   ]
  },
  {
   "cell_type": "code",
   "execution_count": 5,
   "metadata": {},
   "outputs": [
    {
     "name": "stdout",
     "output_type": "stream",
     "text": [
      "1\n",
      "2\n",
      "3\n",
      "4\n",
      "5\n"
     ]
    }
   ],
   "source": [
    "count=1\n",
    "while True:\n",
    "    print(count)\n",
    "    count +=1\n",
    "    if count>5:\n",
    "        break\n"
   ]
  },
  {
   "cell_type": "code",
   "execution_count": 6,
   "metadata": {},
   "outputs": [
    {
     "name": "stdout",
     "output_type": "stream",
     "text": [
      "恭喜，存了1個月總存款為39999元\n"
     ]
    }
   ],
   "source": [
    "motor_price=30000\n",
    "deposit=0\n",
    "month=0\n",
    "while True:\n",
    "    month+=1\n",
    "    save=int(input(f\"請輸入{month}個月的存款是\"))\n",
    "    deposit+=save\n",
    "    if save>30000:\n",
    "        break\n",
    "print(f\"恭喜，存了{month}個月總存款為{deposit}元\")"
   ]
  },
  {
   "cell_type": "code",
   "execution_count": 65,
   "metadata": {},
   "outputs": [
    {
     "name": "stdout",
     "output_type": "stream",
     "text": [
      "輸入的正偶數的次數是1，輸入的正偶數加總是:2\n"
     ]
    }
   ],
   "source": [
    "#請設計一個程式，使用者輸入數，只有加總正偶數，不加總正奇數，如果輸入負值，程式結束\n",
    "sum=0\n",
    "num=0\n",
    "while True:\n",
    "    input_value=int(input(f\"請輸入第{num+1}數值\"))\n",
    "    if input_value < 0 :\n",
    "        break\n",
    "    \n",
    "    if input_value % 2 ==1:\n",
    "        continue\n",
    "    num += 1\n",
    "    sum+=input_value\n",
    "\n",
    "print(f\"輸入的正偶數的次數是{num}，輸入的正偶數加總是:{sum}\")"
   ]
  },
  {
   "cell_type": "code",
   "execution_count": 50,
   "metadata": {},
   "outputs": [
    {
     "data": {
      "text/plain": [
       "0"
      ]
     },
     "execution_count": 50,
     "metadata": {},
     "output_type": "execute_result"
    }
   ],
   "source": [
    "import random\n",
    "random.randrange(5)"
   ]
  },
  {
   "cell_type": "code",
   "execution_count": 62,
   "metadata": {},
   "outputs": [
    {
     "data": {
      "text/plain": [
       "1"
      ]
     },
     "execution_count": 62,
     "metadata": {},
     "output_type": "execute_result"
    }
   ],
   "source": [
    "random.randrange(1,3)"
   ]
  },
  {
   "cell_type": "code",
   "execution_count": 56,
   "metadata": {},
   "outputs": [
    {
     "data": {
      "text/plain": [
       "3"
      ]
     },
     "execution_count": 56,
     "metadata": {},
     "output_type": "execute_result"
    }
   ],
   "source": [
    "random.randint(1,3)"
   ]
  },
  {
   "cell_type": "code",
   "execution_count": 2,
   "metadata": {},
   "outputs": [
    {
     "name": "stdout",
     "output_type": "stream",
     "text": [
      "=====猜數字遊戲====\n",
      "wrong\n",
      "u had already guessed 1 times\n",
      "wrong\n",
      "u had already guessed 2 times\n",
      "wrong\n",
      "u had already guessed 3 times\n",
      "wrong\n",
      "u had already guessed 4 times\n",
      "wrong\n",
      "u had already guessed 5 times\n",
      "bingo,the ans is 7\n",
      "u had already guessed6times\n",
      "game over\n"
     ]
    }
   ],
   "source": [
    "import random\n",
    "min=1\n",
    "max=10\n",
    "target=random.randint(1,10)\n",
    "count=0\n",
    "print('=====猜數字遊戲====')\n",
    "while True:\n",
    "    keyin=int(input(f\"猜數字範圍{min}~{max}\"))\n",
    "    count+=1\n",
    "    if keyin>=min and keyin<=max:\n",
    "        if keyin==target:\n",
    "            print(f\"bingo,the ans is {target}\")\n",
    "            print(f\"u had already guessed{count}times\")\n",
    "            break\n",
    "        else:\n",
    "            print(f\"wrong\")\n",
    "            print(f\"u had already guessed {count} times\")\n",
    "    else:\n",
    "        print(\"over range\")\n",
    "print(\"game over\")\n",
    "\n"
   ]
  },
  {
   "cell_type": "code",
   "execution_count": 5,
   "metadata": {},
   "outputs": [
    {
     "name": "stdout",
     "output_type": "stream",
     "text": [
      "=====猜數字遊戲====\n",
      "smaller\n",
      "u had already guessed 1 times\n",
      "bigger\n",
      "u had already guessed 2 times\n",
      "smaller\n",
      "u had already guessed 3 times\n",
      "smaller\n",
      "u had already guessed 4 times\n",
      "bingo,the ans is 50\n",
      "u had already guessed5times\n",
      "game over\n"
     ]
    }
   ],
   "source": [
    "import random\n",
    "min=1\n",
    "max=100\n",
    "target=random.randint(min,max)\n",
    "count=0\n",
    "print('=====猜數字遊戲====')\n",
    "while True:\n",
    "    keyin=int(input(f\"猜數字範圍{min}~{max}\"))\n",
    "    count+=1\n",
    "    if keyin>=min and keyin<=max:\n",
    "        if keyin==target:\n",
    "            print(f\"bingo,the ans is {target}\")\n",
    "            print(f\"u had already guessed{count}times\")\n",
    "            break\n",
    "        elif keyin>target:\n",
    "            print(\"smaller\")\n",
    "            max=keyin-1\n",
    "        elif keyin<target:\n",
    "            print(\"bigger\")\n",
    "            min=keyin+1\n",
    "        print(f\"u had already guessed {count} times\")\n",
    "    else:\n",
    "        print(\"over range\")\n",
    "print(\"game over\")\n"
   ]
  },
  {
   "cell_type": "code",
   "execution_count": 4,
   "metadata": {},
   "outputs": [
    {
     "name": "stdout",
     "output_type": "stream",
     "text": [
      "continus\n",
      "continus\n",
      "game over\n"
     ]
    }
   ],
   "source": [
    "while True:\n",
    "    play_again=input(\"continue the game?(yes or no)\")\n",
    "    if play_again==\"no\":\n",
    "        break\n",
    "    else:\n",
    "        print(\"continue\")\n",
    "print(\"game over\")"
   ]
  },
  {
   "cell_type": "code",
   "execution_count": 7,
   "metadata": {},
   "outputs": [
    {
     "name": "stdout",
     "output_type": "stream",
     "text": [
      "=====猜數字遊戲====\n",
      "bigger\n",
      "u had already guessed 1 times\n",
      "bigger\n",
      "u had already guessed 2 times\n",
      "bigger\n",
      "u had already guessed 3 times\n",
      "smaller\n",
      "u had already guessed 4 times\n",
      "bigger\n",
      "u had already guessed 5 times\n",
      "bigger\n",
      "u had already guessed 6 times\n",
      "bigger\n",
      "u had already guessed 7 times\n",
      "bingo,the ans is 98\n",
      "game over\n"
     ]
    }
   ],
   "source": [
    "import random\n",
    "while True:\n",
    "    min=1\n",
    "    max=100\n",
    "    target=random.randint(min,max)\n",
    "    count=0\n",
    "    print('=====猜數字遊戲====')\n",
    "    while True:\n",
    "        keyin=int(input(f\"猜數字範圍{min}~{max}\"))\n",
    "        count+=1\n",
    "        if keyin>=min and keyin<=max:\n",
    "            if keyin==target:\n",
    "                print(f\"bingo,the ans is {target}\")\n",
    "                print(f\"u had already guessed {count} times\")\n",
    "                break\n",
    "            elif keyin>target:\n",
    "                print(\"smaller\")\n",
    "                max=keyin-1\n",
    "            elif keyin<target:\n",
    "                print(\"bigger\")\n",
    "                min=keyin+1\n",
    "            print(f\"u had already guessed {count} times\")\n",
    "        else:\n",
    "            print(\"over range\")\n",
    "    play_again=input(\"continue the game?(yes or no)\")\n",
    "    if play_again==\"no\":\n",
    "        break\n",
    "    else:\n",
    "        continue\n",
    "print(\"game over\")\n"
   ]
  }
 ],
 "metadata": {
  "kernelspec": {
   "display_name": "Python 3",
   "language": "python",
   "name": "python3"
  },
  "language_info": {
   "codemirror_mode": {
    "name": "ipython",
    "version": 3
   },
   "file_extension": ".py",
   "mimetype": "text/x-python",
   "name": "python",
   "nbconvert_exporter": "python",
   "pygments_lexer": "ipython3",
   "version": "3.10.12"
  },
  "orig_nbformat": 4
 },
 "nbformat": 4,
 "nbformat_minor": 2
}
